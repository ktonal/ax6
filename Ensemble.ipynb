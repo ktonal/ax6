{
 "cells": [
  {
   "cell_type": "code",
   "execution_count": null,
   "id": "a9301121",
   "metadata": {},
   "outputs": [],
   "source": [
    "import mimikit as mmk\n",
    "import h5mapper as h5m\n",
    "import torch.nn as nn\n",
    "import torch\n",
    "import os\n",
    "import json\n",
    "from random import randint\n",
    "import matplotlib.pyplot as plt\n",
    "\n",
    "from models.wavenets import WaveNetFFT, WaveNetQx\n",
    "from models.srnns import SampleRNN\n",
    "from models.s2s import Seq2SeqLSTM\n",
    "from models.ensemble import Ensemble\n",
    "from mains import train, generate\n",
    "\n",
    "from checkpoints import group_ckpts_by_trainset, load_feature, load_files, load_network_cls\n",
    "from datasets import TRAINSET, VERDI_X\n",
    "\n",
    "import numpy as np\n",
    "\n",
    "from mimikit.extract.from_neighbors import *"
   ]
  },
  {
   "cell_type": "code",
   "execution_count": null,
   "id": "c60d87b0",
   "metadata": {},
   "outputs": [],
   "source": [
    "root = \"trainings/wn-verdi-x\"\n",
    "\n",
    "CKPTS = group_ckpts_by_trainset(root)"
   ]
  },
  {
   "cell_type": "code",
   "execution_count": null,
   "id": "8e889a7b",
   "metadata": {},
   "outputs": [],
   "source": [
    "CKPTS"
   ]
  },
  {
   "cell_type": "code",
   "execution_count": null,
   "id": "5dc01cf3",
   "metadata": {},
   "outputs": [],
   "source": [
    "torch.unique(torch.randint(0, 8, (48,)))"
   ]
  },
  {
   "cell_type": "code",
   "execution_count": null,
   "id": "013edb8b",
   "metadata": {},
   "outputs": [],
   "source": [
    "torch.arange(64).dim()"
   ]
  },
  {
   "cell_type": "code",
   "execution_count": null,
   "id": "359bfc2d",
   "metadata": {
    "scrolled": false
   },
   "outputs": [],
   "source": [
    "for ckpt in CKPTS.values():\n",
    "    net_cls, ckpt, feat, epochs, hp = ckpt[0]\n",
    "    \n",
    "    print(feat)\n",
    "    train = load_files(hp[\"files\"], feat.sr)\n",
    "    y = feat.transform(train.snd[:])\n",
    "    \n",
    "    for output in h5m.FileWalker(h5m.Sound.__re__, root+\"/\"+hp[\"id\"]):\n",
    "        x = h5m.Sound(sr=feat.sr).load(output)\n",
    "        print(output)\n",
    "        mmk.audio(x, sr=feat.sr)\n",
    "        x = feat.transform(x)\n",
    "        \n",
    "        X = torch.as_tensor(x).unsqueeze(0).to(\"cuda\")\n",
    "        Y = torch.as_tensor(y).unsqueeze(0).to(\"cuda\")\n",
    "\n",
    "        with torch.no_grad():\n",
    "            _, nn = nearest_neighbor(X, Y)\n",
    "            rr = repeat_rate(nn, 88, 1)\n",
    "            items, idx = torch.unique(nn, return_inverse=True)\n",
    "            cum_probs = torch.zeros(nn.size(0), items.size(0), nn.size(1))\n",
    "            cum_probs[:, idx, torch.arange(nn.size(1))] = 1\n",
    "            cum_probs = torch.cumsum(cum_probs, dim=2)\n",
    "            print(cum_probs)\n",
    "            \n",
    "            cum_probs = cum_probs / cum_probs.sum(dim=1, keepdims=True)\n",
    "            e_wrt_t = (-cum_probs*torch.where(cum_probs > 0, torch.log(cum_probs), cum_probs)).sum(dim=1)\n",
    "            print((torch.sign(e_wrt_t[:, 1:] - e_wrt_t[:, :-1]) * e_wrt_t[:, :-1]).sum(dim=1))\n",
    "            \n",
    "        plt.figure(figsize=(18, 4))\n",
    "        plt.plot(nn.cpu().numpy()[0])\n",
    "        plt.figure(figsize=(18, 4))\n",
    "        plt.hist(nn.cpu().numpy()[0], bins=512)\n",
    "        plt.figure(figsize=(18, 4))\n",
    "        plt.plot(rr.cpu().numpy()[0] * e_wrt_t.cpu().numpy()[0].max().item())\n",
    "        plt.plot(e_wrt_t.cpu().numpy()[0])\n",
    "        plt.show()\n",
    "\n"
   ]
  },
  {
   "cell_type": "code",
   "execution_count": null,
   "id": "83d34e03",
   "metadata": {},
   "outputs": [],
   "source": []
  },
  {
   "cell_type": "code",
   "execution_count": null,
   "id": "5b4036e6",
   "metadata": {},
   "outputs": [],
   "source": []
  },
  {
   "cell_type": "code",
   "execution_count": null,
   "id": "950428e3",
   "metadata": {},
   "outputs": [],
   "source": []
  },
  {
   "cell_type": "code",
   "execution_count": null,
   "id": "b83bf5c9",
   "metadata": {
    "scrolled": false
   },
   "outputs": [],
   "source": [
    "CKPTS = group_ckpts_by_trainset(\"trainings\")\n",
    "[*CKPTS.keys()]"
   ]
  },
  {
   "cell_type": "code",
   "execution_count": null,
   "id": "d0d23efa",
   "metadata": {
    "scrolled": true
   },
   "outputs": [],
   "source": [
    "k = [*CKPTS.keys()][7]\n",
    "CKPTS[k]"
   ]
  },
  {
   "cell_type": "code",
   "execution_count": null,
   "id": "8fff4132",
   "metadata": {
    "scrolled": true
   },
   "outputs": [],
   "source": [
    "ens = Ensemble(16000, (None, None))\n",
    "\n",
    "def process_outputs(outputs, bidx):\n",
    "    mmk.audio(outputs[0][0].cpu().numpy(), sr=16000)\n",
    "    \n",
    "N_SECONDS = 60\n",
    "\n",
    "\n",
    "\n",
    "for k in CKPTS.keys():\n",
    "\n",
    "    prompt_files = load_files(CKPTS[k][0][-1][\"files\"], 16000)\n",
    "    prompt = prompt_files.snd[32000:48000]\n",
    "    prompt, torch.as_tensor(prompt).unsqueeze(0)\n",
    "    \n",
    "    def next_model():\n",
    "        cls, tp, feat, epochs, hp = CKPTS[k][randint(0, len(CKPTS[k])-1)]\n",
    "        ep = epochs[-1]\n",
    "        net = tp.ckpt.load_checkpoint(cls, ep)\n",
    "        return net, feat\n",
    "    \n",
    "    class Chainer:\n",
    "        training = False\n",
    "        device = \"cuda\"\n",
    "        def eval(self):\n",
    "            pass\n",
    "        def to(self, *args, **kwargs):\n",
    "            pass\n",
    "\n",
    "        def generate_step(self, t, inputs, ctx):\n",
    "            print(\"************************************************************************\")\n",
    "            net, feature = next_model()\n",
    "            net = net.to(\"cuda\")\n",
    "            if hasattr(net, \"use_fast_generate\"):\n",
    "                net.use_fast_generate = True\n",
    "            print(net.__class__, net.rf, feature.sr, inputs[0].shape)\n",
    "    \n",
    "            if (t/16000) < (N_SECONDS-1):\n",
    "                out = ens.single_step(inputs[0], net, feature,\n",
    "                                      feature.sr if isinstance(feature, mmk.MuLawSignal)\n",
    "                                      else (feature.sr//feature.hop_length)//getattr(net, \"hop\", 1))\n",
    "    #             print(net.__class__, feature.sr, t/16000, t, inputs[0].shape, out.shape)\n",
    "                return out\n",
    "            return torch.zeros(1, (N_SECONDS+1)*16000-t).to(\"cuda\")\n",
    "\n",
    "    loop = mmk.GenerateLoop(\n",
    "        network=Chainer(),\n",
    "        dataloader=[(torch.as_tensor(prompt).unsqueeze(0),)],\n",
    "        inputs=(h5m.Input(None, \n",
    "                          getter=h5m.AsSlice(dim=1, shift=-16000, length=16000),\n",
    "                          setter=h5m.Setter(dim=1)),),\n",
    "        n_steps=16000*N_SECONDS,\n",
    "        add_blank=True,\n",
    "        process_outputs=process_outputs\n",
    "    )\n",
    "    loop.run()"
   ]
  },
  {
   "cell_type": "code",
   "execution_count": null,
   "id": "eef9a65c",
   "metadata": {},
   "outputs": [],
   "source": [
    "feat = mmk.Spectrogram(sr=44100, normalize=True, emphasis=0.0, n_fft=1024, hop_length=256, coordinate='mag', center=True)\n",
    "feat.inverse_transform_(torch.randn(1, 20, 513)).shape"
   ]
  },
  {
   "cell_type": "code",
   "execution_count": null,
   "id": "fe2c4f77",
   "metadata": {},
   "outputs": [],
   "source": []
  },
  {
   "cell_type": "code",
   "execution_count": null,
   "id": "8ed95656",
   "metadata": {},
   "outputs": [],
   "source": []
  },
  {
   "cell_type": "code",
   "execution_count": null,
   "id": "08894ee5",
   "metadata": {},
   "outputs": [],
   "source": []
  },
  {
   "cell_type": "code",
   "execution_count": null,
   "id": "ecaa8544",
   "metadata": {},
   "outputs": [],
   "source": []
  },
  {
   "cell_type": "code",
   "execution_count": null,
   "id": "6d515bde",
   "metadata": {},
   "outputs": [],
   "source": []
  },
  {
   "cell_type": "code",
   "execution_count": null,
   "id": "37584aa0",
   "metadata": {},
   "outputs": [],
   "source": []
  },
  {
   "cell_type": "code",
   "execution_count": null,
   "id": "09ac43b2",
   "metadata": {},
   "outputs": [],
   "source": []
  },
  {
   "cell_type": "code",
   "execution_count": null,
   "id": "1bc860d4",
   "metadata": {},
   "outputs": [],
   "source": []
  },
  {
   "cell_type": "code",
   "execution_count": null,
   "id": "6700a58b",
   "metadata": {},
   "outputs": [],
   "source": []
  },
  {
   "cell_type": "code",
   "execution_count": null,
   "id": "51379730",
   "metadata": {},
   "outputs": [],
   "source": []
  },
  {
   "cell_type": "code",
   "execution_count": null,
   "id": "76592396",
   "metadata": {},
   "outputs": [],
   "source": []
  },
  {
   "cell_type": "code",
   "execution_count": null,
   "id": "eb7a64c1",
   "metadata": {
    "scrolled": false
   },
   "outputs": [],
   "source": [
    "import numpy as np\n",
    "\n",
    "class X:\n",
    "    snd = np.random.randn(32000)\n",
    "\n",
    "batch = [\n",
    "    batch_item_resolver(net2.tiers[0],\n",
    "                        mmk.Spectrogram(n_fft=16, hop_length=16, center=False, coordinate=\"mag\"),\n",
    "                        shift=0, length=8),\n",
    "    batch_item_resolver(net2.tiers[1],\n",
    "                        mmk.Spectrogram(n_fft=4, hop_length=4, center=False, coordinate=\"mag\"),\n",
    "                        shift=16//4 - 1, length=8*(16//4)),\n",
    "    batch_item_resolver(net2.tiers[-1],\n",
    "                        mmk.Spectrogram(n_fft=4, hop_length=1, center=False, coordinate=\"mag\"),\n",
    "                        shift=4 * (16//4 - 1), length=8*16),\n",
    "    \n",
    "]\n",
    "\n",
    "[item(X, 12).shape for item in batch]"
   ]
  },
  {
   "cell_type": "code",
   "execution_count": null,
   "id": "1610101f",
   "metadata": {},
   "outputs": [],
   "source": []
  },
  {
   "cell_type": "code",
   "execution_count": null,
   "id": "97584351",
   "metadata": {},
   "outputs": [],
   "source": []
  },
  {
   "cell_type": "code",
   "execution_count": null,
   "id": "b985715d",
   "metadata": {},
   "outputs": [],
   "source": []
  },
  {
   "cell_type": "code",
   "execution_count": null,
   "id": "d494e23b",
   "metadata": {},
   "outputs": [],
   "source": []
  },
  {
   "cell_type": "code",
   "execution_count": null,
   "id": "47b43af8",
   "metadata": {},
   "outputs": [],
   "source": []
  }
 ],
 "metadata": {
  "kernelspec": {
   "display_name": "Python 3",
   "language": "python",
   "name": "python3"
  },
  "language_info": {
   "codemirror_mode": {
    "name": "ipython",
    "version": 3
   },
   "file_extension": ".py",
   "mimetype": "text/x-python",
   "name": "python",
   "nbconvert_exporter": "python",
   "pygments_lexer": "ipython3",
   "version": "3.8.8"
  }
 },
 "nbformat": 4,
 "nbformat_minor": 5
}
