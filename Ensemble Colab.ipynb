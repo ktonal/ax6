{
 "cells": [
  {
   "cell_type": "code",
   "execution_count": null,
   "id": "3a7b973d",
   "metadata": {},
   "outputs": [],
   "source": [
    "!git clone --recurse-submodules https://github.com/ktonal/ax6.git\n",
    "%pip install -e ax6/pypbind ax6/h5mapper ax6/mimikit/"
   ]
  },
  {
   "cell_type": "code",
   "execution_count": null,
   "id": "fc38dd27",
   "metadata": {},
   "outputs": [],
   "source": [
    "import h5mapper as h5m\n",
    "import mimikit as mmk\n",
    "from pbind import *\n",
    "import os, sys\n",
    "\n",
    "try:\n",
    "    from google.colab import auth\n",
    "    auth.authenticate_user()\n",
    "    # in colab ax6/ is not yet in python's path\n",
    "    sys.path.append(os.path.join(os.getcwd(), \"ax6/\"))\n",
    "except ModuleNotFoundError:  # local execution\n",
    "    pass\n",
    "\n",
    "from ensemble import Ensemble\n",
    "from datasets import Trainset"
   ]
  },
  {
   "cell_type": "code",
   "execution_count": null,
   "id": "effee0e1",
   "metadata": {},
   "outputs": [],
   "source": [
    "BASE_SR = 22050\n",
    "\n",
    "prompt_files = Trainset(keyword=\"Cough\", sr=BASE_SR).download()\n"
   ]
  },
  {
   "cell_type": "code",
   "execution_count": null,
   "id": "42616b33",
   "metadata": {
    "scrolled": false
   },
   "outputs": [],
   "source": [
    "prompts = prompt_files.serve(\n",
    "    (h5m.Input(data='snd', getter=h5m.AsSlice(shift=0, length=BASE_SR)), ),\n",
    "    shuffle=False,\n",
    "    batch_size=8,\n",
    "    sampler=mmk.IndicesSampler(\n",
    "        \n",
    "        # INDICES FOR THE PROMPTS :\n",
    "        indices=(0, BASE_SR*2, BASE_SR*4)\n",
    "))\n",
    "\n",
    "stream = Pseq([\n",
    "    Pbind(\n",
    "        \"id\", \"80cb7d5b4ff7af169e74b3617c43580a41d5de5bd6c25e3251db2d11213755cd\",\n",
    "        \"epoch\", Prand([40, 50], inf),\n",
    "        \"seconds\", Pwhite(lo=1., hi=8., repeats=1)\n",
    "        ),\n",
    "    Pbind(\n",
    "        \"id\", \"80cb7d5b4ff7af169e74b3617c43580a41d5de5bd6c25e3251db2d11213755cd\",\n",
    "        \"epoch\", Prand([40, 50], inf),\n",
    "        \"seconds\", Pwhite(lo=0.5, hi=1.5, repeats=1)\n",
    "        ),\n",
    "], inf).asStream()\n",
    "\n",
    "TOTAL_SECONDS = 60.\n",
    "    \n",
    "ensemble = Ensemble(\n",
    "    TOTAL_SECONDS, BASE_SR, stream,\n",
    "    print_events=False\n",
    ")\n",
    "\n",
    "def process_outputs(outputs, bidx):\n",
    "    for output in outputs[0]:\n",
    "        mmk.audio(output.cpu().numpy(), sr=BASE_SR)\n",
    "\n",
    "loop = mmk.GenerateLoop(\n",
    "    network=ensemble,\n",
    "    dataloader=prompts,\n",
    "    inputs=(h5m.Input(None, \n",
    "                      getter=h5m.AsSlice(dim=1, shift=BASE_SR, length=BASE_SR),\n",
    "                      setter=h5m.Setter(dim=1)),),\n",
    "    n_steps=int(BASE_SR * ensemble.max_seconds),\n",
    "    add_blank=True,\n",
    "    process_outputs=process_outputs\n",
    ")\n",
    "loop.run()\n"
   ]
  },
  {
   "cell_type": "code",
   "execution_count": null,
   "id": "4cd09383",
   "metadata": {},
   "outputs": [],
   "source": []
  }
 ],
 "metadata": {
  "kernelspec": {
   "display_name": "Python 3",
   "language": "python",
   "name": "python3"
  },
  "language_info": {
   "codemirror_mode": {
    "name": "ipython",
    "version": 3
   },
   "file_extension": ".py",
   "mimetype": "text/x-python",
   "name": "python",
   "nbconvert_exporter": "python",
   "pygments_lexer": "ipython3",
   "version": "3.8.8"
  }
 },
 "nbformat": 4,
 "nbformat_minor": 5
}
