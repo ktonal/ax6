{
 "cells": [
  {
   "cell_type": "code",
   "execution_count": null,
   "id": "48af2d55",
   "metadata": {},
   "outputs": [],
   "source": [
    "import mimikit as mmk\n",
    "import h5mapper as h5m\n",
    "import dill as pickle\n",
    "import torch\n",
    "import torch.nn as nn\n",
    "from torch.utils.data import Sampler, SequentialSampler"
   ]
  },
  {
   "cell_type": "markdown",
   "id": "d87b115b",
   "metadata": {},
   "source": [
    "# Architecture + Feature => Network"
   ]
  },
  {
   "cell_type": "code",
   "execution_count": null,
   "id": "fd83de9e",
   "metadata": {
    "scrolled": false
   },
   "outputs": [],
   "source": [
    "tp = h5m.TypedFile(\"test.h5\", mode='r', keep_open=True)\n",
    "net = mmk.Seq2SeqLSTM()\n",
    "feat = mmk.Spectrogram(sr=16000, normalize=True, n_fft=1024, hop_length=256, coordinate='mag')\n",
    "\n",
    "net"
   ]
  },
  {
   "cell_type": "markdown",
   "id": "0871f228",
   "metadata": {},
   "source": [
    "# Train Dataloader"
   ]
  },
  {
   "cell_type": "code",
   "execution_count": null,
   "id": "b5306ad7",
   "metadata": {
    "scrolled": false
   },
   "outputs": [],
   "source": [
    "# getters = net.getters(batch_length=net.shift, shift_error=0)\n",
    "net.shift = 8\n",
    "hops_per_batch = 2\n",
    "batch = (\n",
    "    h5m.Input(proxy=tp.snd,\n",
    "              getter=h5m.AsSlice(\n",
    "#                   length=(feat.n_fft-feat.hop_length)+(net.shift-1)*feat.hop_length,\n",
    "                  length=(hops_per_batch*net.shift-1)*feat.hop_length,\n",
    "                  stride=feat.hop_length),\n",
    "              transform=feat.transform),\n",
    "    h5m.Target(proxy=tp.snd,\n",
    "               getter=h5m.AsSlice(\n",
    "                   shift=net.shift*feat.hop_length,\n",
    "                   length=(hops_per_batch*net.shift-1)*feat.hop_length,\n",
    "                   stride=feat.hop_length),\n",
    "               transform=feat.transform),\n",
    ")\n",
    "dl = tp.serve(batch,\n",
    "             batch_sampler=mmk.TBPTTSampler(tp.snd.shape[0]//feat.hop_length,\n",
    "                                           batch_size=8,\n",
    "                                           chunk_length=net.shift*20,\n",
    "                                           seq_len=net.shift))\n",
    "\n",
    "# inp, outp = next(iter(dl))\n",
    "# # inp.shape, outp.shape, inp, outp, tp.snd[1980:2000]\n",
    "# inp.shape, outp.shape\n",
    "tp.f_"
   ]
  },
  {
   "cell_type": "markdown",
   "id": "8ee7e4bb",
   "metadata": {},
   "source": [
    "# Train Loop"
   ]
  },
  {
   "cell_type": "code",
   "execution_count": null,
   "id": "0a7e2854",
   "metadata": {
    "scrolled": false
   },
   "outputs": [],
   "source": [
    "tr_loop = mmk.TrainLoop(\n",
    "    loader=dl,\n",
    "    net=net,\n",
    "    loss_fn=lambda out, trgt: {\"loss\": feat.loss_fn(out, trgt)},\n",
    "    optim=torch.optim.Adam(net.parameters(), lr=1e-3),\n",
    "    tbptt_len=20\n",
    ")\n",
    "\n",
    "Logs = h5m.typedfile(\"Logs\",\n",
    "                     {'ckpt': h5m.TensorDict(net.state_dict())}\n",
    "                    )\n",
    "logs = Logs(\"logs.h5\", mode='w')\n",
    "\n",
    "callbacks = [\n",
    "    mmk.MMKCheckpoint(h5_tensor_dict=logs.ckpt, epochs=1),\n",
    "]\n",
    "logger = mmk.LossLogger(logs)\n",
    "\n",
    "tr_loop.run(max_epochs=10,\n",
    "           logger=logger,\n",
    "           callbacks=callbacks,\n",
    "           limit_train_batches=100\n",
    "           )\n",
    "\n",
    "logs.info()\n",
    "logs.loss"
   ]
  },
  {
   "cell_type": "code",
   "execution_count": null,
   "id": "d3417627",
   "metadata": {},
   "outputs": [],
   "source": [
    "logs.index, logs.loss[:], net.load_state_dict(logs.ckpt['epoch=1-step=10']), logs.ckpt.load_hp()"
   ]
  },
  {
   "cell_type": "markdown",
   "id": "73821c6f",
   "metadata": {},
   "source": [
    "# Generate Loop"
   ]
  },
  {
   "cell_type": "code",
   "execution_count": null,
   "id": "3960685d",
   "metadata": {
    "scrolled": false
   },
   "outputs": [],
   "source": [
    "\n",
    "n_batches = 2\n",
    "batch_size = 8\n",
    "prompt_length = 32\n",
    "n_steps = 10 * net.shift\n",
    "\n",
    "# Gen DataLoader\n",
    "gen_batch = (h5m.Input(proxy=tp.snd,\n",
    "                       getter=h5m.AsSlice(dim=0, shift=0, length=prompt_length*feat.hop_length),\n",
    "                       transform=feat.transform),)\n",
    "gen_dl = tp.serve(gen_batch,\n",
    "                  shuffle=False,\n",
    "                  batch_size=batch_size,\n",
    "                  sampler=torch.randint(0, tp.snd.shape[0]//feat.hop_length, (batch_size*n_batches,),)\n",
    "                 )\n",
    "\n",
    "# Gen Loop\n",
    "outputs = {}\n",
    "loop = mmk.GenerateLoop(\n",
    "    network=net,\n",
    "    dataloader=gen_dl,\n",
    "    interfaces=[\n",
    "        mmk.DynamicDataInterface(\n",
    "            None,\n",
    "            getter=h5m.AsSlice(dim=1, shift=-net.shift, length=net.shift),\n",
    "            setter=mmk.Setter(dim=1)\n",
    "        ),\n",
    "#         temperature\n",
    "#         mmk.DynamicDataInterface(\n",
    "#             None,\n",
    "#             prepare=lambda src: torch.rand(batch_size, n_steps) + 1,\n",
    "#             getter=h5m.AsSlice(dim=1, shift=0, length=1),\n",
    "#             setter=None,\n",
    "#         )\n",
    "    ],\n",
    "    hop=net.shift,\n",
    "    n_batches=n_batches,\n",
    "    n_steps=n_steps,\n",
    "    device='cpu',\n",
    "    process_outputs=lambda out, i: outputs.__setitem__(i, out)\n",
    ")\n",
    "\n",
    "loop.run()\n",
    "\n",
    "len(outputs)"
   ]
  },
  {
   "cell_type": "code",
   "execution_count": null,
   "id": "7d0d819a",
   "metadata": {},
   "outputs": [],
   "source": []
  }
 ],
 "metadata": {
  "kernelspec": {
   "display_name": "Python 3",
   "language": "python",
   "name": "python3"
  },
  "language_info": {
   "codemirror_mode": {
    "name": "ipython",
    "version": 3
   },
   "file_extension": ".py",
   "mimetype": "text/x-python",
   "name": "python",
   "nbconvert_exporter": "python",
   "pygments_lexer": "ipython3",
   "version": "3.8.8"
  }
 },
 "nbformat": 4,
 "nbformat_minor": 5
}
